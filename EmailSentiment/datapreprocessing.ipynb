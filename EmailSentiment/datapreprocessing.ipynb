{
 "cells": [
  {
   "cell_type": "markdown",
   "metadata": {},
   "source": [
    "### Importing require libraries"
   ]
  },
  {
   "cell_type": "code",
   "execution_count": 26,
   "metadata": {},
   "outputs": [],
   "source": [
    "import pandas as pd\n",
    "import numpy as np\n",
    "import os"
   ]
  },
  {
   "cell_type": "code",
   "execution_count": 27,
   "metadata": {},
   "outputs": [],
   "source": [
    "# Folder containing Excel files\n",
    "folder_path = r'raw_data\\Data_2_Apeksha'"
   ]
  },
  {
   "cell_type": "code",
   "execution_count": 28,
   "metadata": {},
   "outputs": [],
   "source": [
    "# List to store each DataFrame\n",
    "dataframes = []"
   ]
  },
  {
   "cell_type": "code",
   "execution_count": 29,
   "metadata": {},
   "outputs": [],
   "source": [
    "# Loop through each file in the folder\n",
    "for file_name in os.listdir(folder_path):\n",
    "    if file_name.endswith('.xlsx') or file_name.endswith('.xls'):\n",
    "        file_path = os.path.join(folder_path, file_name)\n",
    "        # Read the Excel file into a DataFrame\n",
    "        df = pd.read_excel(file_path, usecols=\"A:D\")\n",
    "        dataframes.append(df)"
   ]
  },
  {
   "cell_type": "code",
   "execution_count": 30,
   "metadata": {},
   "outputs": [
    {
     "name": "stdout",
     "output_type": "stream",
     "text": [
      "Total Record Count: (7094, 4)\n"
     ]
    },
    {
     "data": {
      "text/html": [
       "<div>\n",
       "<style scoped>\n",
       "    .dataframe tbody tr th:only-of-type {\n",
       "        vertical-align: middle;\n",
       "    }\n",
       "\n",
       "    .dataframe tbody tr th {\n",
       "        vertical-align: top;\n",
       "    }\n",
       "\n",
       "    .dataframe thead th {\n",
       "        text-align: right;\n",
       "    }\n",
       "</style>\n",
       "<table border=\"1\" class=\"dataframe\">\n",
       "  <thead>\n",
       "    <tr style=\"text-align: right;\">\n",
       "      <th></th>\n",
       "      <th>id</th>\n",
       "      <th>Subject</th>\n",
       "      <th>Email Text</th>\n",
       "      <th>Label</th>\n",
       "    </tr>\n",
       "  </thead>\n",
       "  <tbody>\n",
       "    <tr>\n",
       "      <th>0</th>\n",
       "      <td>738a2c78-e9b7-4886-8a1b-7af4c08f3906</td>\n",
       "      <td>RE: Yates Residence - Mechanical Contractor Me...</td>\n",
       "      <td>Zac Stevenson, PEPRINCIPAL | BUILDING MEPC . ....</td>\n",
       "      <td>Neutral</td>\n",
       "    </tr>\n",
       "    <tr>\n",
       "      <th>1</th>\n",
       "      <td>23e4febf-364f-464a-9a3a-80f9d89d0e6b</td>\n",
       "      <td>Re: 6771 - VeLa - Level 4 Slab Penetration Plans</td>\n",
       "      <td>You tooRespectfullyMichael BentleyGeneral Fore...</td>\n",
       "      <td>Neutral</td>\n",
       "    </tr>\n",
       "    <tr>\n",
       "      <th>2</th>\n",
       "      <td>f0789ea4-0a5f-46c3-8adb-083766b63740</td>\n",
       "      <td>RE: FW: 13027A - 20240603 - Prl - Columbia + A...</td>\n",
       "      <td>You can update the two 12 ducts and adjust on ...</td>\n",
       "      <td>Positive</td>\n",
       "    </tr>\n",
       "    <tr>\n",
       "      <th>3</th>\n",
       "      <td>09474b0b-bc7f-4a1f-ab95-0ed2c497468a</td>\n",
       "      <td>RE: West Zephyrhills Elementary - Pasco County...</td>\n",
       "      <td>You can start with Area A. Proceeded by B,C,D ...</td>\n",
       "      <td>Neutral</td>\n",
       "    </tr>\n",
       "    <tr>\n",
       "      <th>4</th>\n",
       "      <td>b7438359-ce6c-42f7-bcfd-5690e875dcda</td>\n",
       "      <td>RE: MLW_0001_CRS_24410_ Connacht Stadium - Exi...</td>\n",
       "      <td>You can hold off on doing this for now.</td>\n",
       "      <td>Neutral</td>\n",
       "    </tr>\n",
       "  </tbody>\n",
       "</table>\n",
       "</div>"
      ],
      "text/plain": [
       "                                     id  \\\n",
       "0  738a2c78-e9b7-4886-8a1b-7af4c08f3906   \n",
       "1  23e4febf-364f-464a-9a3a-80f9d89d0e6b   \n",
       "2  f0789ea4-0a5f-46c3-8adb-083766b63740   \n",
       "3  09474b0b-bc7f-4a1f-ab95-0ed2c497468a   \n",
       "4  b7438359-ce6c-42f7-bcfd-5690e875dcda   \n",
       "\n",
       "                                             Subject  \\\n",
       "0  RE: Yates Residence - Mechanical Contractor Me...   \n",
       "1   Re: 6771 - VeLa - Level 4 Slab Penetration Plans   \n",
       "2  RE: FW: 13027A - 20240603 - Prl - Columbia + A...   \n",
       "3  RE: West Zephyrhills Elementary - Pasco County...   \n",
       "4  RE: MLW_0001_CRS_24410_ Connacht Stadium - Exi...   \n",
       "\n",
       "                                          Email Text     Label  \n",
       "0  Zac Stevenson, PEPRINCIPAL | BUILDING MEPC . ....   Neutral  \n",
       "1  You tooRespectfullyMichael BentleyGeneral Fore...   Neutral  \n",
       "2  You can update the two 12 ducts and adjust on ...  Positive  \n",
       "3  You can start with Area A. Proceeded by B,C,D ...   Neutral  \n",
       "4            You can hold off on doing this for now.   Neutral  "
      ]
     },
     "execution_count": 30,
     "metadata": {},
     "output_type": "execute_result"
    }
   ],
   "source": [
    "# Concatenate all DataFrames into one\n",
    "data = pd.concat(dataframes, ignore_index=True)\n",
    "\n",
    "print(f'Total Record Count: {data.shape}')\n",
    "data.head()"
   ]
  },
  {
   "cell_type": "code",
   "execution_count": 31,
   "metadata": {},
   "outputs": [],
   "source": [
    "# Renaming the columns\n",
    "data.columns = [col.replace(\" \",\"\").lower() for col in data.columns]"
   ]
  },
  {
   "cell_type": "code",
   "execution_count": 36,
   "metadata": {},
   "outputs": [
    {
     "name": "stdout",
     "output_type": "stream",
     "text": [
      "(7094, 4)\n"
     ]
    }
   ],
   "source": [
    "data.head()\n",
    "print(data.shape)"
   ]
  },
  {
   "cell_type": "code",
   "execution_count": 37,
   "metadata": {},
   "outputs": [
    {
     "data": {
      "text/plain": [
       "label\n",
       "Neutral     6989\n",
       "Negative      72\n",
       "Positive      23\n",
       "Name: count, dtype: int64"
      ]
     },
     "execution_count": 37,
     "metadata": {},
     "output_type": "execute_result"
    }
   ],
   "source": [
    "data.label.value_counts()"
   ]
  },
  {
   "cell_type": "code",
   "execution_count": 38,
   "metadata": {},
   "outputs": [],
   "source": [
    "df = data.drop_duplicates(subset=['id']).copy()"
   ]
  },
  {
   "cell_type": "code",
   "execution_count": 39,
   "metadata": {},
   "outputs": [
    {
     "data": {
      "text/html": [
       "<div>\n",
       "<style scoped>\n",
       "    .dataframe tbody tr th:only-of-type {\n",
       "        vertical-align: middle;\n",
       "    }\n",
       "\n",
       "    .dataframe tbody tr th {\n",
       "        vertical-align: top;\n",
       "    }\n",
       "\n",
       "    .dataframe thead th {\n",
       "        text-align: right;\n",
       "    }\n",
       "</style>\n",
       "<table border=\"1\" class=\"dataframe\">\n",
       "  <thead>\n",
       "    <tr style=\"text-align: right;\">\n",
       "      <th></th>\n",
       "      <th>id</th>\n",
       "      <th>subject</th>\n",
       "      <th>emailtext</th>\n",
       "      <th>label</th>\n",
       "    </tr>\n",
       "  </thead>\n",
       "  <tbody>\n",
       "    <tr>\n",
       "      <th>0</th>\n",
       "      <td>738a2c78-e9b7-4886-8a1b-7af4c08f3906</td>\n",
       "      <td>RE: Yates Residence - Mechanical Contractor Me...</td>\n",
       "      <td>Zac Stevenson, PEPRINCIPAL | BUILDING MEPC . ....</td>\n",
       "      <td>Neutral</td>\n",
       "    </tr>\n",
       "    <tr>\n",
       "      <th>1</th>\n",
       "      <td>23e4febf-364f-464a-9a3a-80f9d89d0e6b</td>\n",
       "      <td>Re: 6771 - VeLa - Level 4 Slab Penetration Plans</td>\n",
       "      <td>You tooRespectfullyMichael BentleyGeneral Fore...</td>\n",
       "      <td>Neutral</td>\n",
       "    </tr>\n",
       "    <tr>\n",
       "      <th>2</th>\n",
       "      <td>f0789ea4-0a5f-46c3-8adb-083766b63740</td>\n",
       "      <td>RE: FW: 13027A - 20240603 - Prl - Columbia + A...</td>\n",
       "      <td>You can update the two 12 ducts and adjust on ...</td>\n",
       "      <td>Positive</td>\n",
       "    </tr>\n",
       "    <tr>\n",
       "      <th>3</th>\n",
       "      <td>09474b0b-bc7f-4a1f-ab95-0ed2c497468a</td>\n",
       "      <td>RE: West Zephyrhills Elementary - Pasco County...</td>\n",
       "      <td>You can start with Area A. Proceeded by B,C,D ...</td>\n",
       "      <td>Neutral</td>\n",
       "    </tr>\n",
       "    <tr>\n",
       "      <th>4</th>\n",
       "      <td>b7438359-ce6c-42f7-bcfd-5690e875dcda</td>\n",
       "      <td>RE: MLW_0001_CRS_24410_ Connacht Stadium - Exi...</td>\n",
       "      <td>You can hold off on doing this for now.</td>\n",
       "      <td>Neutral</td>\n",
       "    </tr>\n",
       "  </tbody>\n",
       "</table>\n",
       "</div>"
      ],
      "text/plain": [
       "                                     id  \\\n",
       "0  738a2c78-e9b7-4886-8a1b-7af4c08f3906   \n",
       "1  23e4febf-364f-464a-9a3a-80f9d89d0e6b   \n",
       "2  f0789ea4-0a5f-46c3-8adb-083766b63740   \n",
       "3  09474b0b-bc7f-4a1f-ab95-0ed2c497468a   \n",
       "4  b7438359-ce6c-42f7-bcfd-5690e875dcda   \n",
       "\n",
       "                                             subject  \\\n",
       "0  RE: Yates Residence - Mechanical Contractor Me...   \n",
       "1   Re: 6771 - VeLa - Level 4 Slab Penetration Plans   \n",
       "2  RE: FW: 13027A - 20240603 - Prl - Columbia + A...   \n",
       "3  RE: West Zephyrhills Elementary - Pasco County...   \n",
       "4  RE: MLW_0001_CRS_24410_ Connacht Stadium - Exi...   \n",
       "\n",
       "                                           emailtext     label  \n",
       "0  Zac Stevenson, PEPRINCIPAL | BUILDING MEPC . ....   Neutral  \n",
       "1  You tooRespectfullyMichael BentleyGeneral Fore...   Neutral  \n",
       "2  You can update the two 12 ducts and adjust on ...  Positive  \n",
       "3  You can start with Area A. Proceeded by B,C,D ...   Neutral  \n",
       "4            You can hold off on doing this for now.   Neutral  "
      ]
     },
     "execution_count": 39,
     "metadata": {},
     "output_type": "execute_result"
    }
   ],
   "source": [
    "df.head()"
   ]
  },
  {
   "cell_type": "code",
   "execution_count": 40,
   "metadata": {},
   "outputs": [],
   "source": [
    "df[['id', 'emailtext', 'label']].to_parquet('data\\labeldata_7.parquet')"
   ]
  },
  {
   "cell_type": "code",
   "execution_count": 42,
   "metadata": {},
   "outputs": [
    {
     "data": {
      "text/plain": [
       "label\n",
       "Neutral     5782\n",
       "Negative      55\n",
       "Positive      22\n",
       "Name: count, dtype: int64"
      ]
     },
     "execution_count": 42,
     "metadata": {},
     "output_type": "execute_result"
    }
   ],
   "source": [
    "df.label.value_counts()"
   ]
  },
  {
   "cell_type": "code",
   "execution_count": 244,
   "metadata": {},
   "outputs": [],
   "source": [
    "# Conerting the label column to numerical data \n",
    "df['label'] = df['label'].map({'Neutral': 0, \"Positive\":0, \"Negative\": 1})"
   ]
  },
  {
   "cell_type": "code",
   "execution_count": 245,
   "metadata": {},
   "outputs": [
    {
     "data": {
      "text/plain": [
       "label\n",
       "0.0    5804\n",
       "1.0      55\n",
       "Name: count, dtype: int64"
      ]
     },
     "execution_count": 245,
     "metadata": {},
     "output_type": "execute_result"
    }
   ],
   "source": [
    "df.label.value_counts()"
   ]
  },
  {
   "cell_type": "code",
   "execution_count": 246,
   "metadata": {},
   "outputs": [
    {
     "data": {
      "text/plain": [
       "['subject', 'label']"
      ]
     },
     "execution_count": 246,
     "metadata": {},
     "output_type": "execute_result"
    }
   ],
   "source": [
    "[col for col in data.columns if df[col].isnull().sum() > 0]"
   ]
  },
  {
   "cell_type": "code",
   "execution_count": 247,
   "metadata": {},
   "outputs": [],
   "source": [
    "df = df.dropna(subset = ['subject', 'label'])"
   ]
  },
  {
   "cell_type": "code",
   "execution_count": 248,
   "metadata": {},
   "outputs": [
    {
     "data": {
      "text/plain": [
       "[]"
      ]
     },
     "execution_count": 248,
     "metadata": {},
     "output_type": "execute_result"
    }
   ],
   "source": [
    "[col for col in data.columns if df[col].isnull().sum() > 0]"
   ]
  },
  {
   "cell_type": "code",
   "execution_count": 250,
   "metadata": {},
   "outputs": [
    {
     "name": "stdout",
     "output_type": "stream",
     "text": [
      "<class 'pandas.core.frame.DataFrame'>\n",
      "Index: 5853 entries, 0 to 7093\n",
      "Data columns (total 4 columns):\n",
      " #   Column     Non-Null Count  Dtype  \n",
      "---  ------     --------------  -----  \n",
      " 0   id         5853 non-null   object \n",
      " 1   subject    5853 non-null   object \n",
      " 2   emailtext  5853 non-null   object \n",
      " 3   label      5853 non-null   float64\n",
      "dtypes: float64(1), object(3)\n",
      "memory usage: 228.6+ KB\n"
     ]
    }
   ],
   "source": [
    "df.info()"
   ]
  },
  {
   "cell_type": "code",
   "execution_count": 253,
   "metadata": {},
   "outputs": [],
   "source": [
    "df['subject'] = df['subject'].astype(str)\n",
    "df['label'] = df['label'].astype(int)"
   ]
  },
  {
   "cell_type": "code",
   "execution_count": 254,
   "metadata": {},
   "outputs": [
    {
     "name": "stdout",
     "output_type": "stream",
     "text": [
      "id           object\n",
      "subject      object\n",
      "emailtext    object\n",
      "label         int32\n",
      "dtype: object\n"
     ]
    }
   ],
   "source": [
    "print(df.dtypes)"
   ]
  },
  {
   "cell_type": "code",
   "execution_count": 255,
   "metadata": {},
   "outputs": [],
   "source": [
    "df.to_parquet('data\\labeldata.parquet')"
   ]
  }
 ],
 "metadata": {
  "kernelspec": {
   "display_name": "Python 3",
   "language": "python",
   "name": "python3"
  },
  "language_info": {
   "codemirror_mode": {
    "name": "ipython",
    "version": 3
   },
   "file_extension": ".py",
   "mimetype": "text/x-python",
   "name": "python",
   "nbconvert_exporter": "python",
   "pygments_lexer": "ipython3",
   "version": "3.11.9"
  },
  "orig_nbformat": 4
 },
 "nbformat": 4,
 "nbformat_minor": 2
}
