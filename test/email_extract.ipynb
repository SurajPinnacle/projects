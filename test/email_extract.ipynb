{
 "cells": [
  {
   "cell_type": "code",
   "execution_count": 26,
   "metadata": {},
   "outputs": [],
   "source": [
    "from email import policy\n",
    "from email.parser import BytesParser\n",
    "import os"
   ]
  },
  {
   "cell_type": "code",
   "execution_count": 62,
   "metadata": {},
   "outputs": [],
   "source": [
    "file_path = r'data\\email\\sample_3'"
   ]
  },
  {
   "cell_type": "code",
   "execution_count": 63,
   "metadata": {},
   "outputs": [],
   "source": [
    "# Parse the email using Python's email module to handle the raw email file\n",
    "with open(file_path, 'rb') as f:\n",
    "    msg = BytesParser(policy=policy.default).parse(f)"
   ]
  },
  {
   "cell_type": "code",
   "execution_count": 64,
   "metadata": {},
   "outputs": [],
   "source": [
    "# Initialize a list to store information about attachments\n",
    "attachments = []"
   ]
  },
  {
   "cell_type": "code",
   "execution_count": 65,
   "metadata": {},
   "outputs": [
    {
     "name": "stdout",
     "output_type": "stream",
     "text": [
      "Saved attachment: Final Invoice_July-24_Nesma Avenue Mall..xlsx to data/attachments_3\\Final Invoice_July-24_Nesma Avenue Mall..xlsx\n"
     ]
    }
   ],
   "source": [
    "# Define the directory to save attachments\n",
    "output_directory = 'data/attachments_3'\n",
    "\n",
    "# Create the directory if it doesn't exist\n",
    "os.makedirs(output_directory, exist_ok=True)\n",
    "\n",
    "# Iterate through the email parts and save each attachment\n",
    "if msg.is_multipart():\n",
    "    for part in msg.iter_parts():\n",
    "        # Check if the part is an attachment\n",
    "        if part.get_content_disposition() == 'attachment':\n",
    "            # Extract the filename and content\n",
    "            filename = part.get_filename()\n",
    "            content = part.get_payload(decode=True)\n",
    "            \n",
    "            # Define the full path to save the file\n",
    "            output_file_path = os.path.join(output_directory, filename)\n",
    "            \n",
    "            # Write the attachment to the specified directory\n",
    "            with open(output_file_path, 'wb') as f:\n",
    "                f.write(content)\n",
    "            \n",
    "            print(f\"Saved attachment: {filename} to {output_file_path}\")"
   ]
  },
  {
   "cell_type": "code",
   "execution_count": null,
   "metadata": {},
   "outputs": [],
   "source": []
  },
  {
   "cell_type": "code",
   "execution_count": null,
   "metadata": {},
   "outputs": [],
   "source": []
  },
  {
   "cell_type": "code",
   "execution_count": null,
   "metadata": {},
   "outputs": [],
   "source": []
  },
  {
   "cell_type": "code",
   "execution_count": null,
   "metadata": {},
   "outputs": [],
   "source": []
  }
 ],
 "metadata": {
  "instance_type": "ml.t3.medium",
  "kernelspec": {
   "display_name": "Python 3",
   "language": "python",
   "name": "python3"
  },
  "language_info": {
   "codemirror_mode": {
    "name": "ipython",
    "version": 3
   },
   "file_extension": ".py",
   "mimetype": "text/x-python",
   "name": "python",
   "nbconvert_exporter": "python",
   "pygments_lexer": "ipython3",
   "version": "3.9.19"
  }
 },
 "nbformat": 4,
 "nbformat_minor": 4
}
