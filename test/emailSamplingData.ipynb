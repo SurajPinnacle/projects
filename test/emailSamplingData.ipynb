{
 "cells": [
  {
   "cell_type": "code",
   "execution_count": 16,
   "metadata": {},
   "outputs": [],
   "source": [
    "import pandas as pd\n",
    "import re\n",
    "\n",
    "pd.set_option('display.max_columns', None)\n",
    "pd.set_option('display.max_rows', None)\n"
   ]
  },
  {
   "cell_type": "code",
   "execution_count": 3,
   "metadata": {},
   "outputs": [],
   "source": [
    "file_path = r\"C:\\Users\\pis05408.PINNACLE\\Desktop\\Suraj\\Email_Sentiment_Data\\EmailScoringData.parquet\""
   ]
  },
  {
   "cell_type": "code",
   "execution_count": 4,
   "metadata": {},
   "outputs": [
    {
     "data": {
      "text/plain": [
       "(28117, 11)"
      ]
     },
     "execution_count": 4,
     "metadata": {},
     "output_type": "execute_result"
    }
   ],
   "source": [
    "data = pd.read_parquet(file_path)\n",
    "data.shape"
   ]
  },
  {
   "cell_type": "code",
   "execution_count": 5,
   "metadata": {},
   "outputs": [
    {
     "name": "stdout",
     "output_type": "stream",
     "text": [
      "<class 'pandas.core.frame.DataFrame'>\n",
      "RangeIndex: 28117 entries, 0 to 28116\n",
      "Data columns (total 11 columns):\n",
      " #   Column        Non-Null Count  Dtype \n",
      "---  ------        --------------  ----- \n",
      " 0   id            28117 non-null  object\n",
      " 1   from_email    28117 non-null  object\n",
      " 2   to_email      28117 non-null  object\n",
      " 3   cc_email      28117 non-null  object\n",
      " 4   subject       28117 non-null  object\n",
      " 5   body          28117 non-null  object\n",
      " 6   date_ist      28117 non-null  object\n",
      " 7   time_ist      28117 non-null  object\n",
      " 8   projectid     28117 non-null  int64 \n",
      " 9   cleaned_body  28117 non-null  object\n",
      " 10  run_time      28117 non-null  int64 \n",
      "dtypes: int64(2), object(9)\n",
      "memory usage: 2.4+ MB\n"
     ]
    }
   ],
   "source": [
    "data.info()"
   ]
  },
  {
   "cell_type": "code",
   "execution_count": 17,
   "metadata": {},
   "outputs": [
    {
     "name": "stdout",
     "output_type": "stream",
     "text": [
      "Data successfully written to C:/Users/pis05408.PINNACLE/Desktop/Suraj/Email_Sentiment_Data/output_data.xlsx\n"
     ]
    }
   ],
   "source": [
    "selected_columns = ['id', 'subject', 'body', 'date_ist']\n",
    "output_path = 'C:/Users/pis05408.PINNACLE/Desktop/Suraj/Email_Sentiment_Data/'\n",
    "\n",
    "# Function to clean illegal characters from text\n",
    "def clean_text(text):\n",
    "    if isinstance(text, str):\n",
    "        # Replace control characters (ASCII < 32) with an empty string\n",
    "        return re.sub(r'[\\x00-\\x1F\\x7F]', '', text)\n",
    "    return text\n",
    "\n",
    "# Apply the cleaning function to the 'subject' and 'body' columns\n",
    "data['subject'] = data['subject'].apply(clean_text)\n",
    "data['body'] = data['body'].apply(clean_text)\n",
    "\n",
    "# Write the cleaned DataFrame to an Excel file\n",
    "data[selected_columns].to_excel(output_path + 'output_data.xlsx', index=False)\n",
    "\n",
    "print(f\"Data successfully written to {output_path + 'output_data.xlsx'}\")"
   ]
  }
 ],
 "metadata": {
  "instance_type": "ml.t3.medium",
  "kernelspec": {
   "display_name": "base",
   "language": "python",
   "name": "python3"
  },
  "language_info": {
   "codemirror_mode": {
    "name": "ipython",
    "version": 3
   },
   "file_extension": ".py",
   "mimetype": "text/x-python",
   "name": "python",
   "nbconvert_exporter": "python",
   "pygments_lexer": "ipython3",
   "version": "3.9.18"
  }
 },
 "nbformat": 4,
 "nbformat_minor": 4
}
