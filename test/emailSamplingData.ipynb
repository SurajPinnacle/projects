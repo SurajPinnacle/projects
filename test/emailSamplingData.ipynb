{
 "cells": [
  {
   "cell_type": "code",
   "execution_count": 1,
   "metadata": {},
   "outputs": [],
   "source": [
    "import pandas as pd\n",
    "import re\n",
    "\n",
    "pd.set_option('display.max_columns', None)\n",
    "pd.set_option('display.max_rows', None)\n"
   ]
  },
  {
   "cell_type": "code",
   "execution_count": 2,
   "metadata": {},
   "outputs": [],
   "source": [
    "file_path = r\"C:\\Users\\pis05408.PINNACLE\\Desktop\\Suraj\\Email_Sentiment_Data\\email_dump_6thSept.parquet\""
   ]
  },
  {
   "cell_type": "code",
   "execution_count": 3,
   "metadata": {},
   "outputs": [
    {
     "data": {
      "text/plain": [
       "(28766, 12)"
      ]
     },
     "execution_count": 3,
     "metadata": {},
     "output_type": "execute_result"
    }
   ],
   "source": [
    "data = pd.read_parquet(file_path)\n",
    "data.shape"
   ]
  },
  {
   "cell_type": "code",
   "execution_count": 4,
   "metadata": {},
   "outputs": [
    {
     "name": "stdout",
     "output_type": "stream",
     "text": [
      "<class 'pandas.core.frame.DataFrame'>\n",
      "RangeIndex: 28766 entries, 0 to 28765\n",
      "Data columns (total 12 columns):\n",
      " #   Column        Non-Null Count  Dtype  \n",
      "---  ------        --------------  -----  \n",
      " 0   id            28766 non-null  object \n",
      " 1   from_email    28766 non-null  object \n",
      " 2   to_email      28766 non-null  object \n",
      " 3   cc_email      28766 non-null  object \n",
      " 4   subject       28766 non-null  object \n",
      " 5   date_ist      28766 non-null  object \n",
      " 6   time_ist      28766 non-null  object \n",
      " 7   projectid     28766 non-null  int64  \n",
      " 8   cleaned_body  28766 non-null  object \n",
      " 9   label         28766 non-null  object \n",
      " 10  score         28766 non-null  float32\n",
      " 11  run_time      28766 non-null  int64  \n",
      "dtypes: float32(1), int64(2), object(9)\n",
      "memory usage: 2.5+ MB\n"
     ]
    }
   ],
   "source": [
    "data.info()"
   ]
  },
  {
   "cell_type": "code",
   "execution_count": 17,
   "metadata": {},
   "outputs": [
    {
     "name": "stdout",
     "output_type": "stream",
     "text": [
      "Data successfully written to C:/Users/pis05408.PINNACLE/Desktop/Suraj/Email_Sentiment_Data/output_data.xlsx\n"
     ]
    }
   ],
   "source": [
    "selected_columns = ['id', 'subject', 'cleaned_body', 'date_ist', 'label']\n",
    "output_path = 'C:/Users/pis05408.PINNACLE/Desktop/Suraj/Email_Sentiment_Data/'\n",
    "\n",
    "# Function to clean illegal characters from text\n",
    "def clean_text(text):\n",
    "    if isinstance(text, str):\n",
    "        # Replace control characters (ASCII < 32) with an empty string\n",
    "        return re.sub(r'[\\x00-\\x1F\\x7F]', '', text)\n",
    "    return text\n",
    "\n",
    "# Apply the cleaning function to the 'subject' and 'body' columns\n",
    "data['subject'] = data['subject'].apply(clean_text)\n",
    "data['cleaned_body'] = data['cleaned_body'].apply(clean_text)\n",
    "\n",
    "# Write the cleaned DataFrame to an Excel file\n",
    "data[selected_columns].to_excel(output_path + 'output_data_06Sep.xlsx', index=False)\n",
    "\n",
    "print(f\"Data successfully written to {output_path + 'output_data_06Sep.xlsx'}\")"
   ]
  },
  {
   "cell_type": "code",
   "execution_count": 5,
   "metadata": {},
   "outputs": [],
   "source": [
    "df = data\n",
    "min_count_per_label = df['label'].value_counts().min()"
   ]
  },
  {
   "cell_type": "code",
   "execution_count": 6,
   "metadata": {},
   "outputs": [],
   "source": [
    "# Define the number of datasets (5 in this case)\n",
    "n_datasets = 5\n",
    "\n",
    "# Calculate the samples per dataset\n",
    "samples_per_dataset = min_count_per_label // n_datasets"
   ]
  },
  {
   "cell_type": "code",
   "execution_count": 7,
   "metadata": {},
   "outputs": [
    {
     "name": "stderr",
     "output_type": "stream",
     "text": [
      "C:\\Users\\pis05408.PINNACLE\\AppData\\Local\\Temp\\ipykernel_21568\\1714450394.py:6: DeprecationWarning: DataFrameGroupBy.apply operated on the grouping columns. This behavior is deprecated, and in a future version of pandas the grouping columns will be excluded from the operation. Either pass `include_groups=False` to exclude the groupings or explicitly select the grouping columns after groupby to silence this warning.\n",
      "  dataset = df.groupby('label', group_keys=False).apply(lambda x: x.sample(min(len(x), samples_per_dataset)))\n",
      "C:\\Users\\pis05408.PINNACLE\\AppData\\Local\\Temp\\ipykernel_21568\\1714450394.py:6: DeprecationWarning: DataFrameGroupBy.apply operated on the grouping columns. This behavior is deprecated, and in a future version of pandas the grouping columns will be excluded from the operation. Either pass `include_groups=False` to exclude the groupings or explicitly select the grouping columns after groupby to silence this warning.\n",
      "  dataset = df.groupby('label', group_keys=False).apply(lambda x: x.sample(min(len(x), samples_per_dataset)))\n",
      "C:\\Users\\pis05408.PINNACLE\\AppData\\Local\\Temp\\ipykernel_21568\\1714450394.py:6: DeprecationWarning: DataFrameGroupBy.apply operated on the grouping columns. This behavior is deprecated, and in a future version of pandas the grouping columns will be excluded from the operation. Either pass `include_groups=False` to exclude the groupings or explicitly select the grouping columns after groupby to silence this warning.\n",
      "  dataset = df.groupby('label', group_keys=False).apply(lambda x: x.sample(min(len(x), samples_per_dataset)))\n",
      "C:\\Users\\pis05408.PINNACLE\\AppData\\Local\\Temp\\ipykernel_21568\\1714450394.py:6: DeprecationWarning: DataFrameGroupBy.apply operated on the grouping columns. This behavior is deprecated, and in a future version of pandas the grouping columns will be excluded from the operation. Either pass `include_groups=False` to exclude the groupings or explicitly select the grouping columns after groupby to silence this warning.\n",
      "  dataset = df.groupby('label', group_keys=False).apply(lambda x: x.sample(min(len(x), samples_per_dataset)))\n",
      "C:\\Users\\pis05408.PINNACLE\\AppData\\Local\\Temp\\ipykernel_21568\\1714450394.py:6: DeprecationWarning: DataFrameGroupBy.apply operated on the grouping columns. This behavior is deprecated, and in a future version of pandas the grouping columns will be excluded from the operation. Either pass `include_groups=False` to exclude the groupings or explicitly select the grouping columns after groupby to silence this warning.\n",
      "  dataset = df.groupby('label', group_keys=False).apply(lambda x: x.sample(min(len(x), samples_per_dataset)))\n"
     ]
    }
   ],
   "source": [
    "# Create a list to store the 5 datasets\n",
    "datasets = []\n",
    "\n",
    "# Split the data into 5 equally distributed datasets based on labels\n",
    "for i in range(n_datasets):\n",
    "    dataset = df.groupby('label', group_keys=False).apply(lambda x: x.sample(min(len(x), samples_per_dataset)))\n",
    "    datasets.append(dataset)\n"
   ]
  },
  {
   "cell_type": "code",
   "execution_count": 13,
   "metadata": {},
   "outputs": [],
   "source": [
    "# Save the 5 datasets into an Excel file with separate sheets\n",
    "output_path = 'C:/Users/pis05408.PINNACLE/Desktop/Suraj/Email_Sentiment_Data/'"
   ]
  },
  {
   "cell_type": "code",
   "execution_count": 15,
   "metadata": {},
   "outputs": [
    {
     "ename": "ModuleNotFoundError",
     "evalue": "No module named 'xlsxwriter'",
     "output_type": "error",
     "traceback": [
      "\u001b[1;31m---------------------------------------------------------------------------\u001b[0m",
      "\u001b[1;31mModuleNotFoundError\u001b[0m                       Traceback (most recent call last)",
      "Cell \u001b[1;32mIn[15], line 1\u001b[0m\n\u001b[1;32m----> 1\u001b[0m \u001b[38;5;28;01mwith\u001b[39;00m \u001b[43mpd\u001b[49m\u001b[38;5;241;43m.\u001b[39;49m\u001b[43mExcelWriter\u001b[49m\u001b[43m(\u001b[49m\u001b[43moutput_path\u001b[49m\u001b[43m,\u001b[49m\u001b[43m \u001b[49m\u001b[43mengine\u001b[49m\u001b[38;5;241;43m=\u001b[39;49m\u001b[38;5;124;43m'\u001b[39;49m\u001b[38;5;124;43mxlsxwriter\u001b[39;49m\u001b[38;5;124;43m'\u001b[39;49m\u001b[43m)\u001b[49m \u001b[38;5;28;01mas\u001b[39;00m writer:\n\u001b[0;32m      2\u001b[0m     \u001b[38;5;28;01mfor\u001b[39;00m i, dataset \u001b[38;5;129;01min\u001b[39;00m \u001b[38;5;28menumerate\u001b[39m(datasets):\n\u001b[0;32m      3\u001b[0m         dataset\u001b[38;5;241m.\u001b[39mto_excel(writer, sheet_name\u001b[38;5;241m=\u001b[39m\u001b[38;5;124mf\u001b[39m\u001b[38;5;124m'\u001b[39m\u001b[38;5;124mDataset_\u001b[39m\u001b[38;5;132;01m{\u001b[39;00mi\u001b[38;5;241m+\u001b[39m\u001b[38;5;241m1\u001b[39m\u001b[38;5;132;01m}\u001b[39;00m\u001b[38;5;124m'\u001b[39m, index\u001b[38;5;241m=\u001b[39m\u001b[38;5;28;01mFalse\u001b[39;00m)\n",
      "File \u001b[1;32mc:\\Suraj\\projects\\test\\env\\lib\\site-packages\\pandas\\io\\excel\\_xlsxwriter.py:197\u001b[0m, in \u001b[0;36mXlsxWriter.__init__\u001b[1;34m(self, path, engine, date_format, datetime_format, mode, storage_options, if_sheet_exists, engine_kwargs, **kwargs)\u001b[0m\n\u001b[0;32m    184\u001b[0m \u001b[38;5;28;01mdef\u001b[39;00m \u001b[38;5;21m__init__\u001b[39m(\n\u001b[0;32m    185\u001b[0m     \u001b[38;5;28mself\u001b[39m,\n\u001b[0;32m    186\u001b[0m     path: FilePath \u001b[38;5;241m|\u001b[39m WriteExcelBuffer \u001b[38;5;241m|\u001b[39m ExcelWriter,\n\u001b[1;32m   (...)\u001b[0m\n\u001b[0;32m    195\u001b[0m ) \u001b[38;5;241m-\u001b[39m\u001b[38;5;241m>\u001b[39m \u001b[38;5;28;01mNone\u001b[39;00m:\n\u001b[0;32m    196\u001b[0m     \u001b[38;5;66;03m# Use the xlsxwriter module as the Excel writer.\u001b[39;00m\n\u001b[1;32m--> 197\u001b[0m     \u001b[38;5;28;01mfrom\u001b[39;00m \u001b[38;5;21;01mxlsxwriter\u001b[39;00m \u001b[38;5;28;01mimport\u001b[39;00m Workbook\n\u001b[0;32m    199\u001b[0m     engine_kwargs \u001b[38;5;241m=\u001b[39m combine_kwargs(engine_kwargs, kwargs)\n\u001b[0;32m    201\u001b[0m     \u001b[38;5;28;01mif\u001b[39;00m mode \u001b[38;5;241m==\u001b[39m \u001b[38;5;124m\"\u001b[39m\u001b[38;5;124ma\u001b[39m\u001b[38;5;124m\"\u001b[39m:\n",
      "\u001b[1;31mModuleNotFoundError\u001b[0m: No module named 'xlsxwriter'"
     ]
    }
   ],
   "source": [
    "with pd.ExcelWriter(output_path, engine='xlsxwriter') as writer:\n",
    "    for i, dataset in enumerate(datasets):\n",
    "        dataset.to_excel(writer, sheet_name=f'Dataset_{i+1}', index=False)"
   ]
  },
  {
   "cell_type": "code",
   "execution_count": null,
   "metadata": {},
   "outputs": [],
   "source": []
  },
  {
   "cell_type": "code",
   "execution_count": null,
   "metadata": {},
   "outputs": [],
   "source": []
  },
  {
   "cell_type": "code",
   "execution_count": null,
   "metadata": {},
   "outputs": [],
   "source": []
  },
  {
   "cell_type": "code",
   "execution_count": null,
   "metadata": {},
   "outputs": [],
   "source": []
  }
 ],
 "metadata": {
  "instance_type": "ml.t3.medium",
  "kernelspec": {
   "display_name": "base",
   "language": "python",
   "name": "python3"
  },
  "language_info": {
   "codemirror_mode": {
    "name": "ipython",
    "version": 3
   },
   "file_extension": ".py",
   "mimetype": "text/x-python",
   "name": "python",
   "nbconvert_exporter": "python",
   "pygments_lexer": "ipython3",
   "version": "3.9.18"
  }
 },
 "nbformat": 4,
 "nbformat_minor": 4
}
