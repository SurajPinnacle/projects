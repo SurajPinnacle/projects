{
 "cells": [
  {
   "cell_type": "code",
   "execution_count": 1,
   "metadata": {},
   "outputs": [],
   "source": [
    "import cv2 \n",
    "import os\n",
    "import numpy as np"
   ]
  },
  {
   "cell_type": "code",
   "execution_count": 2,
   "metadata": {},
   "outputs": [
    {
     "name": "stdout",
     "output_type": "stream",
     "text": [
      "output_folder: C:/Users/pis05408.PINNACLE/Desktop/Suraj//ObjectDetectionFlorPlan//data/25NOV2024\n"
     ]
    }
   ],
   "source": [
    "output_folder = 'C:/Users/pis05408.PINNACLE/Desktop/Suraj//ObjectDetectionFlorPlan//data/25NOV2024'\n",
    "os.makedirs(output_folder, exist_ok=True)\n",
    "print(f'output_folder: {output_folder}')"
   ]
  },
  {
   "cell_type": "code",
   "execution_count": 3,
   "metadata": {},
   "outputs": [
    {
     "name": "stdout",
     "output_type": "stream",
     "text": [
      "template shape: (61, 48)\n"
     ]
    }
   ],
   "source": [
    "template = cv2.imread(r'data\\test.jpg', cv2.IMREAD_GRAYSCALE)\n",
    "print(f'template shape: {template.shape}')"
   ]
  },
  {
   "cell_type": "code",
   "execution_count": 4,
   "metadata": {},
   "outputs": [],
   "source": [
    "filepath = r'data\\rotation'\n",
    "\n",
    "for i in range(4):\n",
    "    if i == 0:\n",
    "        # Original template\n",
    "        template_rotated = template.copy()\n",
    "    else:\n",
    "        # Rotate 90 degrees clockwise\n",
    "        template_rotated = cv2.rotate(template_rotated, cv2.ROTATE_90_CLOCKWISE)\n",
    "    \n",
    "    # Save the rotated image with a unique filename\n",
    "    filename = f'{filepath}/rotated_{i}.png'  # Change the extension as needed\n",
    "    cv2.imwrite(filename, template_rotated)"
   ]
  },
  {
   "cell_type": "code",
   "execution_count": null,
   "metadata": {},
   "outputs": [],
   "source": []
  },
  {
   "cell_type": "code",
   "execution_count": null,
   "metadata": {},
   "outputs": [],
   "source": []
  },
  {
   "cell_type": "code",
   "execution_count": null,
   "metadata": {},
   "outputs": [],
   "source": []
  },
  {
   "cell_type": "code",
   "execution_count": null,
   "metadata": {},
   "outputs": [],
   "source": []
  },
  {
   "cell_type": "code",
   "execution_count": null,
   "metadata": {},
   "outputs": [],
   "source": []
  }
 ],
 "metadata": {
  "kernelspec": {
   "display_name": "imageevn",
   "language": "python",
   "name": "python3"
  },
  "language_info": {
   "codemirror_mode": {
    "name": "ipython",
    "version": 3
   },
   "file_extension": ".py",
   "mimetype": "text/x-python",
   "name": "python",
   "nbconvert_exporter": "python",
   "pygments_lexer": "ipython3",
   "version": "3.8.20"
  }
 },
 "nbformat": 4,
 "nbformat_minor": 2
}
