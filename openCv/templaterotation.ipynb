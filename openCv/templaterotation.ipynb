{
 "cells": [
  {
   "cell_type": "code",
   "execution_count": 2,
   "metadata": {},
   "outputs": [],
   "source": [
    "import cv2\n",
    "import numpy as np\n",
    "import os\n",
    "from datetime import datetime"
   ]
  },
  {
   "cell_type": "code",
   "execution_count": 3,
   "metadata": {},
   "outputs": [],
   "source": [
    "# Create a filename based on scale and threshold\n",
    "output_folder = 'C:/Users/pis05408.PINNACLE/Desktop/Suraj/ObjectDetectionFlorPlan/27thNov'\n",
    "current_time = datetime.now().strftime(\"%Y%m%d_%H%M%S\")\n",
    "os.makedirs(output_folder, exist_ok=True)  # Create output folder if it doesn't exist"
   ]
  },
  {
   "cell_type": "code",
   "execution_count": 5,
   "metadata": {},
   "outputs": [
    {
     "name": "stdout",
     "output_type": "stream",
     "text": [
      "image shape: (9000, 12600)\n",
      "template shape: (64, 56)\n",
      "File Stored at: C:/Users/pis05408.PINNACLE/Desktop/Suraj/ObjectDetectionFlorPlan/27thNov\\detected_scale_0.9_threshold_0.799_20241127_091807.jpg\n",
      "file_name: detected_scale_0.9_threshold_0.799_20241127_091807.jpg\n",
      "Scale: 0.9, Threshold: 0.799, Count Detected: 0\n"
     ]
    }
   ],
   "source": [
    "# Load the main image and the template\n",
    "img = cv2.imread('data/sample.jpg')\n",
    "img_gray = cv2.imread('data/sample.jpg', cv2.IMREAD_GRAYSCALE)\n",
    "template = cv2.imread('data/test1.jpg', cv2.IMREAD_GRAYSCALE)\n",
    "\n",
    "print(f'image shape: {img_gray.shape}')\n",
    "print(f'template shape: {template.shape}')\n",
    "\n",
    "# Store width and height of template in w and h \n",
    "w, h = template.shape[::-1] \n",
    "\n",
    "# Define scale and threshold\n",
    "scale = 0.9\n",
    "threshold = 0.799\n",
    "\n",
    "# Prepare a list to hold all rotated templates\n",
    "templates = []\n",
    "\n",
    "# Resize and rotate the template\n",
    "for i in range(4):\n",
    "    if i == 0:\n",
    "        # Original template\n",
    "        template_resized = cv2.resize(template, (int(w * scale), int(h * scale)))\n",
    "    else:\n",
    "        # Rotate 90 degrees\n",
    "        template_resized = cv2.rotate(template_resized, cv2.ROTATE_90_CLOCKWISE)\n",
    "    \n",
    "    templates.append(template_resized)\n",
    "\n",
    "# Create an image to draw the detections\n",
    "img_detected = img.copy()  # Create a copy of the original image to draw on\n",
    "count_detected = 0\n",
    "detected_points = set()  # To track unique detections\n",
    "\n",
    "# Perform template matching for each template\n",
    "for template_resized in templates:\n",
    "    w_resized, h_resized = template_resized.shape[::-1]\n",
    "    \n",
    "    # Detect edges in the grayscale image and apply template matching\n",
    "    result = cv2.matchTemplate(img_gray, template_resized, cv2.TM_CCOEFF_NORMED)\n",
    "\n",
    "    # Set threshold for detection\n",
    "    loc = np.where(result >= threshold)\n",
    "\n",
    "    # Prepare bounding boxes for detected locations\n",
    "    for pt in zip(*loc[::-1]):  # Switch columns and rows\n",
    "        box = [pt[0], pt[1], pt[0] + w_resized, pt[1] + h_resized]  # [x1, y1, x2, y2]\n",
    "        \n",
    "        # Check if this box overlaps with previously detected boxes\n",
    "        box_tuple = (box[0], box[1], box[2], box[3])\n",
    "        if not any((box[0] < x2 and box[2] > x1 and box[1] < y2 and box[3] > y1) for (x1, y1, x2, y2) in detected_points):\n",
    "            cv2.rectangle(img_detected, (box[0], box[1]), (box[2], box[3]), (0, 0, 255), 2)  # Red color\n",
    "            detected_points.add(box_tuple)  # Add this box to the set of detected points\n",
    "            count_detected += 1  # Increment the count for each unique detection\n",
    "\n",
    "\n",
    "filename = f\"detected_scale_{scale}_threshold_{threshold}_{current_time}.jpg\"\n",
    "filepath = os.path.join(output_folder, filename)\n",
    "\n",
    "# Save the detected image\n",
    "cv2.imwrite(filepath, img_detected)\n",
    "\n",
    "# Print the count of detected items\n",
    "print(f'File Stored at: {filepath}\\nfile_name: {filename}')\n",
    "print(f\"Scale: {scale}, Threshold: {threshold}, Count Detected: {count_detected}\")\n",
    "\n",
    "# Optionally display the last detected image\n",
    "# cv2.imshow(\"Detected\", img_detected) \n",
    "# cv2.waitKey(0)\n",
    "# cv2.destroyAllWindows()"
   ]
  },
  {
   "cell_type": "code",
   "execution_count": null,
   "metadata": {},
   "outputs": [],
   "source": []
  },
  {
   "cell_type": "code",
   "execution_count": null,
   "metadata": {},
   "outputs": [],
   "source": []
  },
  {
   "cell_type": "code",
   "execution_count": null,
   "metadata": {},
   "outputs": [],
   "source": []
  },
  {
   "cell_type": "code",
   "execution_count": null,
   "metadata": {},
   "outputs": [],
   "source": []
  },
  {
   "cell_type": "code",
   "execution_count": null,
   "metadata": {},
   "outputs": [],
   "source": []
  },
  {
   "cell_type": "code",
   "execution_count": null,
   "metadata": {},
   "outputs": [],
   "source": []
  },
  {
   "cell_type": "code",
   "execution_count": null,
   "metadata": {},
   "outputs": [],
   "source": []
  }
 ],
 "metadata": {
  "kernelspec": {
   "display_name": "imageevn",
   "language": "python",
   "name": "python3"
  },
  "language_info": {
   "codemirror_mode": {
    "name": "ipython",
    "version": 3
   },
   "file_extension": ".py",
   "mimetype": "text/x-python",
   "name": "python",
   "nbconvert_exporter": "python",
   "pygments_lexer": "ipython3",
   "version": "3.8.20"
  }
 },
 "nbformat": 4,
 "nbformat_minor": 2
}
