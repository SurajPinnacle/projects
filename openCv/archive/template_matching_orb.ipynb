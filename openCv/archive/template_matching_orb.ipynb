{
 "cells": [
  {
   "cell_type": "code",
   "execution_count": 15,
   "metadata": {},
   "outputs": [],
   "source": [
    "import cv2\n",
    "import numpy as np\n",
    "import os"
   ]
  },
  {
   "cell_type": "code",
   "execution_count": 16,
   "metadata": {},
   "outputs": [
    {
     "name": "stdout",
     "output_type": "stream",
     "text": [
      "image shape: (9000, 12600)\n",
      "template shape: (61, 48)\n",
      "template_upscaled shape: (244, 192)\n"
     ]
    }
   ],
   "source": [
    "template = cv2.imread('data/test.jpg', 0)  # Load template image in grayscale\n",
    "target = cv2.imread('data/sample.jpg', 0)  # Load target image in grayscale\n",
    "\n",
    "scale_factor = 4  # Upscale by 4x\n",
    "template_upscaled = cv2.resize(template, None, fx=scale_factor, fy=scale_factor, interpolation=cv2.INTER_CUBIC)\n",
    "\n",
    "print(f'image shape: {target.shape}')\n",
    "print(f'template shape: {template.shape}')\n",
    "print(f'template_upscaled shape: {template_upscaled.shape}')"
   ]
  },
  {
   "cell_type": "code",
   "execution_count": 17,
   "metadata": {},
   "outputs": [],
   "source": [
    "# Initialize ORB detector\n",
    "# orb = cv2.ORB_create()\n",
    "sift = cv2.SIFT_create()\n",
    "\n",
    "# Detect and compute keypoints and descriptors\n",
    "keypoints_template, descriptors_template = sift.detectAndCompute(template, None)\n",
    "keypoints_target, descriptors_target = sift.detectAndCompute(target, None)"
   ]
  },
  {
   "cell_type": "code",
   "execution_count": 18,
   "metadata": {},
   "outputs": [],
   "source": [
    "# Use FLANN-based matcher\n",
    "FLANN_INDEX_KDTREE = 1\n",
    "index_params = dict(algorithm=FLANN_INDEX_KDTREE, trees=5)\n",
    "search_params = dict(checks=50)  # Adjust checks for speed/accuracy tradeoff\n",
    "flann = cv2.FlannBasedMatcher(index_params, search_params)\n",
    "matches = flann.knnMatch(descriptors_template, descriptors_target, k=2)"
   ]
  },
  {
   "cell_type": "code",
   "execution_count": 19,
   "metadata": {},
   "outputs": [
    {
     "data": {
      "text/plain": [
       "[< cv2.DMatch 0000027DE91C0F30>, < cv2.DMatch 0000027DEE3628B0>]"
      ]
     },
     "execution_count": 19,
     "metadata": {},
     "output_type": "execute_result"
    }
   ],
   "source": [
    "# Apply ratio test to filter matches\n",
    "good_matches = []\n",
    "for m, n in matches:\n",
    "    if m.distance < 0.6 * n.distance:  # Adjust threshold as necessary\n",
    "        good_matches.append(m)\n",
    "\n",
    "good_matches"
   ]
  },
  {
   "cell_type": "code",
   "execution_count": 13,
   "metadata": {},
   "outputs": [],
   "source": [
    "# Draw matches on the images\n",
    "match_img = cv2.drawMatches(\n",
    "    template, keypoints_template,\n",
    "    target, keypoints_target,\n",
    "    good_matches, None,\n",
    "    flags=cv2.DrawMatchesFlags_NOT_DRAW_SINGLE_POINTS\n",
    ")\n",
    "\n",
    "# # Display the matched keypoints\n",
    "# cv2.imshow('Matched Keypoints', match_img)\n",
    "# cv2.waitKey(0)\n",
    "# cv2.destroyAllWindows()"
   ]
  },
  {
   "cell_type": "code",
   "execution_count": 14,
   "metadata": {},
   "outputs": [
    {
     "name": "stdout",
     "output_type": "stream",
     "text": [
      "File Stored at: output\\detected_scale_1.jpg\n",
      "file_name: detected_scale_1.jpg\n"
     ]
    }
   ],
   "source": [
    "# Localization of detected region (Optional)\n",
    "if len(good_matches) > 4:  # Minimum number of matches for homography\n",
    "    src_pts = np.float32([keypoints_template[m.queryIdx].pt for m in good_matches]).reshape(-1, 1, 2)\n",
    "    dst_pts = np.float32([keypoints_target[m.trainIdx].pt for m in good_matches]).reshape(-1, 1, 2)\n",
    "\n",
    "    # Compute Homography\n",
    "    H, mask = cv2.findHomography(src_pts, dst_pts, cv2.RANSAC, 5.0)\n",
    "\n",
    "    # Get template dimensions\n",
    "    h, w = template.shape[:2]\n",
    "    corners = np.float32([[0, 0], [0, h-1], [w-1, h-1], [w-1, 0]]).reshape(-1, 1, 2)\n",
    "\n",
    "    # Transform template corners to target image space\n",
    "    transformed_corners = cv2.perspectiveTransform(corners, H)\n",
    "\n",
    "    # Draw bounding box on target image\n",
    "    target_with_box = target.copy()\n",
    "    target_with_box = cv2.polylines(target_with_box, [np.int32(transformed_corners)], True, (0, 255, 0), 3)\n",
    "\n",
    "    # Create a filename based on scale and threshold\n",
    "    output_folder = 'output'  # Specify your output folder\n",
    "    os.makedirs(output_folder, exist_ok=True)  # Create output folder if it doesn't exist\n",
    "    filename = f\"detected_scale_1.jpg\"\n",
    "    filepath = os.path.join(output_folder, filename)\n",
    "\n",
    "    # Save the detected image\n",
    "    cv2.imwrite(filepath, target_with_box)\n",
    "\n",
    "    # Print the count of detected items\n",
    "    print(f'File Stored at: {filepath}\\nfile_name: {filename}')\n",
    "    # Display the target image with the bounding box\n",
    "    cv2.imshow('Detected Region', target_with_box)\n",
    "    cv2.waitKey(0)\n",
    "    cv2.destroyAllWindows()\n",
    "else:\n",
    "    print(\"Not enough good matches were found for homography.\")\n"
   ]
  },
  {
   "cell_type": "code",
   "execution_count": null,
   "metadata": {},
   "outputs": [],
   "source": []
  },
  {
   "cell_type": "code",
   "execution_count": null,
   "metadata": {},
   "outputs": [],
   "source": []
  },
  {
   "cell_type": "code",
   "execution_count": null,
   "metadata": {},
   "outputs": [],
   "source": []
  },
  {
   "cell_type": "code",
   "execution_count": null,
   "metadata": {},
   "outputs": [],
   "source": []
  },
  {
   "cell_type": "code",
   "execution_count": null,
   "metadata": {},
   "outputs": [],
   "source": []
  },
  {
   "cell_type": "code",
   "execution_count": null,
   "metadata": {},
   "outputs": [],
   "source": []
  }
 ],
 "metadata": {
  "kernelspec": {
   "display_name": "imageevn",
   "language": "python",
   "name": "python3"
  },
  "language_info": {
   "codemirror_mode": {
    "name": "ipython",
    "version": 3
   },
   "file_extension": ".py",
   "mimetype": "text/x-python",
   "name": "python",
   "nbconvert_exporter": "python",
   "pygments_lexer": "ipython3",
   "version": "3.8.20"
  }
 },
 "nbformat": 4,
 "nbformat_minor": 2
}
