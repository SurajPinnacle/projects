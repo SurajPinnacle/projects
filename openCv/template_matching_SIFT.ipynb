{
 "cells": [
  {
   "cell_type": "code",
   "execution_count": 1,
   "metadata": {},
   "outputs": [],
   "source": [
    "import cv2 \n",
    "import numpy as np\n",
    "import os\n",
    "import numpy as np\n",
    "from datetime import datetime"
   ]
  },
  {
   "cell_type": "code",
   "execution_count": 2,
   "metadata": {},
   "outputs": [
    {
     "name": "stdout",
     "output_type": "stream",
     "text": [
      "output_folder: C:/Users/pis05408.PINNACLE/Desktop/Suraj/ObjectDetectionFlorPlan/HappyScenario\n"
     ]
    }
   ],
   "source": [
    "output_folder = 'C:/Users/pis05408.PINNACLE/Desktop/Suraj/ObjectDetectionFlorPlan/HappyScenario'\n",
    "os.makedirs(output_folder, exist_ok=True)\n",
    "print(f'output_folder: {output_folder}')"
   ]
  },
  {
   "cell_type": "code",
   "execution_count": 3,
   "metadata": {},
   "outputs": [
    {
     "name": "stdout",
     "output_type": "stream",
     "text": [
      "image shape: (9000, 12600)\n",
      "template shape: (61, 48)\n"
     ]
    }
   ],
   "source": [
    "img = cv2.imread('data\\sample.jpg')\n",
    "img_gray = cv2.imread('data\\sample.jpg', cv2.IMREAD_GRAYSCALE)\n",
    "template = cv2.imread(r'data\\test.jpg', cv2.IMREAD_GRAYSCALE)\n",
    "\n",
    "print(f'image shape: {img_gray.shape}')\n",
    "print(f'template shape: {template.shape}')"
   ]
  },
  {
   "cell_type": "code",
   "execution_count": 7,
   "metadata": {},
   "outputs": [],
   "source": [
    "# Load images\n",
    "image = cv2.imread('data\\sample.jpg')\n",
    "templates = ['data\\exm\\disconnectswitch.jpg', 'data\\exm\\duplexrece.jpg']\n",
    "\n",
    "# Convert to grayscale\n",
    "image_gray = cv2.cvtColor(image, cv2.COLOR_BGR2GRAY)\n",
    "\n",
    "# Initialize SIFT or ORB detector\n",
    "sift = cv2.SIFT_create()\n",
    "# orb = cv2.ORB_create()\n",
    "\n",
    "# FLANN parameters\n",
    "FLANN_INDEX_KDTREE = 1\n",
    "index_params = dict(algorithm=FLANN_INDEX_KDTREE, trees=5)\n",
    "search_params = dict(checks=50)"
   ]
  },
  {
   "cell_type": "code",
   "execution_count": 8,
   "metadata": {},
   "outputs": [],
   "source": [
    "for template_path in templates:\n",
    "    # Load template and convert to grayscale\n",
    "    template = cv2.imread(template_path)\n",
    "    template_gray = cv2.cvtColor(template, cv2.COLOR_BGR2GRAY)\n",
    "\n",
    "    # Find key points and descriptors\n",
    "    kp1, des1 = sift.detectAndCompute(template_gray, None)\n",
    "    kp2, des2 = sift.detectAndCompute(image_gray, None)\n",
    "\n",
    "    # Match descriptors using FLANN\n",
    "    flann = cv2.FlannBasedMatcher(index_params, search_params)\n",
    "    matches = flann.knnMatch(des1, des2, k=2)\n",
    "\n",
    "    # Store good matches based on distance ratio\n",
    "    good_matches = []\n",
    "    for m, n in matches:\n",
    "        if m.distance < 0.7 * n.distance:\n",
    "            good_matches.append(m)\n",
    "\n",
    "    # Draw matches if sufficient good matches are found\n",
    "    if len(good_matches) > 10:  # Adjust threshold as needed\n",
    "        src_pts = np.float32([kp1[m.queryIdx].pt for m in good_matches]).reshape(-1, 1, 2)\n",
    "        dst_pts = np.float32([kp2[m.trainIdx].pt for m in good_matches]).reshape(-1, 1, 2)\n",
    "\n",
    "        # Find homography if enough matches are found\n",
    "        M, mask = cv2.findHomography(src_pts, dst_pts, cv2.RANSAC)\n",
    "        h, w = template_gray.shape\n",
    "        pts = np.float32([[0, 0], [0, h - 1], [w - 1, h - 1], [w - 1, 0]]).reshape(-1, 1, 2)\n",
    "        dst = cv2.perspectiveTransform(pts, M)\n",
    "\n",
    "        # Draw bounding box around detected template\n",
    "        image = cv2.polylines(image, [np.int32(dst)], True, (0, 255, 0), 3)\n",
    "\n",
    "# Create a filename based on scale and threshold\n",
    "current_time = datetime.now().strftime(\"%Y%m%d_%H%M%S\")\n",
    "filename = f\"detected_image_{current_time}.jpg\"\n",
    "filepath = os.path.join(output_folder, filename)\n",
    "\n",
    "# Save the detected image\n",
    "cv2.imwrite(filepath, image)\n",
    "\n",
    "# Show result\n",
    "cv2.imshow('Detected Templates', image)\n",
    "cv2.waitKey(0)\n",
    "cv2.destroyAllWindows()"
   ]
  },
  {
   "cell_type": "code",
   "execution_count": null,
   "metadata": {},
   "outputs": [],
   "source": []
  },
  {
   "cell_type": "code",
   "execution_count": null,
   "metadata": {},
   "outputs": [],
   "source": []
  },
  {
   "cell_type": "code",
   "execution_count": null,
   "metadata": {},
   "outputs": [],
   "source": []
  },
  {
   "cell_type": "code",
   "execution_count": null,
   "metadata": {},
   "outputs": [],
   "source": []
  },
  {
   "cell_type": "code",
   "execution_count": null,
   "metadata": {},
   "outputs": [],
   "source": []
  }
 ],
 "metadata": {
  "kernelspec": {
   "display_name": "imageevn",
   "language": "python",
   "name": "python3"
  },
  "language_info": {
   "codemirror_mode": {
    "name": "ipython",
    "version": 3
   },
   "file_extension": ".py",
   "mimetype": "text/x-python",
   "name": "python",
   "nbconvert_exporter": "python",
   "pygments_lexer": "ipython3",
   "version": "3.8.20"
  }
 },
 "nbformat": 4,
 "nbformat_minor": 2
}
