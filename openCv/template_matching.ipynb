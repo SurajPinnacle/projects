{
 "cells": [
  {
   "cell_type": "code",
   "execution_count": 25,
   "metadata": {},
   "outputs": [],
   "source": [
    "import cv2 \n",
    "import numpy as np\n",
    "import os\n",
    "import numpy as np"
   ]
  },
  {
   "cell_type": "code",
   "execution_count": 26,
   "metadata": {},
   "outputs": [
    {
     "name": "stdout",
     "output_type": "stream",
     "text": [
      "output_folder: C:/Users/pis05408.PINNACLE/Desktop/Suraj//ObjectDetectionFlorPlan//data/25NOV2024\n"
     ]
    }
   ],
   "source": [
    "output_folder = 'C:/Users/pis05408.PINNACLE/Desktop/Suraj//ObjectDetectionFlorPlan//data/25NOV2024'\n",
    "os.makedirs(output_folder, exist_ok=True)\n",
    "print(f'output_folder: {output_folder}')"
   ]
  },
  {
   "cell_type": "code",
   "execution_count": 27,
   "metadata": {},
   "outputs": [
    {
     "name": "stdout",
     "output_type": "stream",
     "text": [
      "image shape: (9000, 12600)\n",
      "template shape: (61, 48)\n",
      "template old shape: (43, 46)\n"
     ]
    }
   ],
   "source": [
    "img = cv2.imread('data\\sample.jpg')\n",
    "img_gray = cv2.imread('data\\sample.jpg', cv2.IMREAD_GRAYSCALE)\n",
    "template = cv2.imread(r'data\\test.jpg', cv2.IMREAD_GRAYSCALE)\n",
    "templateold = cv2.imread(r'data\\sam.jpg', cv2.IMREAD_GRAYSCALE)\n",
    "\n",
    "print(f'image shape: {img_gray.shape}')\n",
    "print(f'template shape: {template.shape}')\n",
    "print(f'template old shape: {templateold.shape}')"
   ]
  },
  {
   "cell_type": "code",
   "execution_count": 28,
   "metadata": {},
   "outputs": [],
   "source": [
    "# Store width and height of template in w and h \n",
    "w, h = template.shape[::-1]"
   ]
  },
  {
   "cell_type": "code",
   "execution_count": 29,
   "metadata": {},
   "outputs": [],
   "source": [
    "# Define different scales and thresholds to test\n",
    "for scale in np.arange(0.2, 1.5, 0.1):\n",
    "    # Resize the template according to scale\n",
    "    template_resized = cv2.resize(template, (int(w * scale), int(h * scale)))\n",
    "\n",
    "    # Store new width and height of the resized template\n",
    "    w_resized, h_resized = template_resized.shape[::-1]\n",
    "\n",
    "    # Detect edges in the grayscale image and apply template matching\n",
    "    result = cv2.matchTemplate(img_gray, template_resized, cv2.TM_CCOEFF_NORMED)\n",
    "\n",
    "    for threshold in np.arange(0.5, 1.0, 0.1):\n",
    "        # Set threshold for detection\n",
    "        loc = np.where(result >= threshold)\n",
    "\n",
    "        # Draw rectangles around detected matches with red color\n",
    "        img_detected = img.copy()  # Create a copy of the original image to draw on\n",
    "        for pt in zip(*loc[::-1]):  # Switch columns and rows\n",
    "            cv2.rectangle(img_detected, pt, (pt[0] + w_resized, pt[1] + h_resized), (0, 0, 255), 2)  # Red color\n",
    "\n",
    "        # Create a filename based on scale and threshold\n",
    "        filename = f\"detected_scale_{scale}_threshold_{threshold}.jpg\"\n",
    "        filepath = os.path.join(output_folder, filename)\n",
    "\n",
    "        # Save the detected image\n",
    "        cv2.imwrite(filepath, img_detected)\n",
    "\n",
    "# # Optionally display the last detected image\n",
    "# cv2.imshow(\"Detected\", img_detected) \n",
    "# cv2.waitKey(0)\n",
    "# cv2.destroyAllWindows()"
   ]
  },
  {
   "cell_type": "code",
   "execution_count": null,
   "metadata": {},
   "outputs": [],
   "source": []
  },
  {
   "cell_type": "code",
   "execution_count": null,
   "metadata": {},
   "outputs": [],
   "source": []
  },
  {
   "cell_type": "code",
   "execution_count": null,
   "metadata": {},
   "outputs": [],
   "source": []
  },
  {
   "cell_type": "code",
   "execution_count": null,
   "metadata": {},
   "outputs": [],
   "source": []
  },
  {
   "cell_type": "code",
   "execution_count": null,
   "metadata": {},
   "outputs": [],
   "source": []
  },
  {
   "cell_type": "code",
   "execution_count": null,
   "metadata": {},
   "outputs": [],
   "source": []
  }
 ],
 "metadata": {
  "kernelspec": {
   "display_name": "imageevn",
   "language": "python",
   "name": "python3"
  },
  "language_info": {
   "codemirror_mode": {
    "name": "ipython",
    "version": 3
   },
   "file_extension": ".py",
   "mimetype": "text/x-python",
   "name": "python",
   "nbconvert_exporter": "python",
   "pygments_lexer": "ipython3",
   "version": "3.8.20"
  }
 },
 "nbformat": 4,
 "nbformat_minor": 2
}
